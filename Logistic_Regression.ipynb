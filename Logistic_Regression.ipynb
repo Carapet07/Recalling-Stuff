{
 "cells": [
  {
   "cell_type": "markdown",
   "metadata": {},
   "source": [
    "Logistic regression calculates the probability that something belongs to a class (like 1 or 0, cat or dog, spam or not)\n",
    "Loss function used: Binary cross-entropy\n",
    "\n",
    "I won't make the project because it's the same as linear regression but the model is sklearn.linear_model.LogisticRegression\n"
   ]
  }
 ],
 "metadata": {
  "kernelspec": {
   "display_name": "Python 3",
   "language": "python",
   "name": "python3"
  },
  "language_info": {
   "name": "python",
   "version": "3.11.8"
  }
 },
 "nbformat": 4,
 "nbformat_minor": 2
}
