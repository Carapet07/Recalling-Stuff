{
 "cells": [
  {
   "cell_type": "markdown",
   "metadata": {
    "vscode": {
     "languageId": "plaintext"
    }
   },
   "source": [
    "## Supervised Learning: Summary\n",
    "\n",
    "Supervised learning is a machine learning approach where models learn from labeled data.\n",
    " Each data point has an input and a known output (label). The model tries to map inputs \n",
    " to outputs, so it can predict labels for new, unseen data. Common tasks include \n",
    " classification (predicting categories) and regression (predicting numbers)."
   ]
  },
  {
   "cell_type": "markdown",
   "metadata": {
    "vscode": {
     "languageId": "plaintext"
    }
   },
   "source": [
    "### Example Project: Classifying Handwritten Digits with Keras\n",
    "\n",
    "We will use the MNIST dataset to train a neural network to recognize handwritten digits."
   ]
  },
  {
   "cell_type": "code",
   "execution_count": null,
   "metadata": {},
   "outputs": [],
   "source": [
    "import numpy as np\n",
    "import tensorflow as tf\n",
    "from tensorflow import keras\n",
    "from tensorflow.keras import layers\n",
    "\n",
    "def load_and_prepare_data() -> tuple[tuple[np.ndarray, np.ndarray], tuple[np.ndarray, np.ndarray]]:\n",
    "    \"\"\"\n",
    "    Loads the MNIST dataset and prepares it for training.\n",
    "\n",
    "    Returns:\n",
    "        Tuple of Numpy arrays: (x_train, y_train), (x_test, y_test)\n",
    "    \"\"\"\n",
    "    (x_train, y_train), (x_test, y_test) = keras.datasets.mnist.load_data()\n",
    "    x_train = x_train.astype('float32') / 255.0\n",
    "    x_test = x_test.astype('float32') / 255.0\n",
    "    x_train = np.expand_dims(x_train, -1)\n",
    "    x_test = np.expand_dims(x_test, -1)\n",
    "    return (x_train, y_train), (x_test, y_test)\n",
    "\n",
    "# Load and prepare data\n",
    "(x_train, y_train), (x_test, y_test) = load_and_prepare_data()"
   ]
  },
  {
   "cell_type": "code",
   "execution_count": 4,
   "metadata": {},
   "outputs": [],
   "source": [
    "import tensorflow\n",
    "from tensorflow import keras\n",
    "import numpy as np\n",
    "from tensorflow.keras import layers\n",
    "\n",
    "def load_and_prepare_data() ->tuple[tuple[np.ndarray, np.ndarray], tuple[np.ndarray, np.ndarray]]:\n",
    "    (x_train, y_train), (x_test, y_test) = keras.datasets.mnist.load_data()\n",
    "    x_train = x_train.astype('float32') / 255.0\n",
    "    x_test = x_test.astype('float32') / 255.0\n",
    "    x_train = np.expand_dims(x_train, -1)\n",
    "    x_test = np.expand_dims(x_test, -1)\n",
    "    \n",
    "    return (x_train, y_train), (x_test, y_test)\n",
    "\n",
    "(x_train, y_train), (x_test, y_test) = load_and_prepare_data()\n",
    "    \n",
    "    "
   ]
  },
  {
   "cell_type": "code",
   "execution_count": 4,
   "metadata": {},
   "outputs": [],
   "source": [
    "def build_model(input_shape: tuple[int, int, int]) -> keras.Model:\n",
    "    \"\"\"\n",
    "    Builds a simple neural network for digit classification\n",
    "\n",
    "    Args:\n",
    "        input_shape: Shape of the input images\n",
    "\n",
    "    Returns:\n",
    "        Compiled Keras model\n",
    "    \"\"\"\n",
    "    model = keras.Sequential([\n",
    "        layers.Input(shape=input_shape),\n",
    "        layers.Conv2D(32, kernel_size=(3, 3), activation='relu'),\n",
    "        layers.MaxPooling2D(pool_size=(2, 2)),\n",
    "        layers.Flatten(),\n",
    "        layers.Dense(128, activation='relu'),\n",
    "        layers.Dense(10, activation='softmax')\n",
    "    ])\n",
    "    \n",
    "    model.compile(\n",
    "        optimizer='adam',\n",
    "        loss='sparse_categorical_crossentropy',\n",
    "        metrics=['accuracy']\n",
    "    )\n",
    "    \n",
    "    return model\n",
    "\n",
    "model = build_model(x_train.shape[1:])"
   ]
  },
  {
   "cell_type": "code",
   "execution_count": 5,
   "metadata": {},
   "outputs": [
    {
     "name": "stdout",
     "output_type": "stream",
     "text": [
      "Epoch 1/5\n",
      "1688/1688 - 8s - 5ms/step - accuracy: 0.9542 - loss: 0.1532 - val_accuracy: 0.9845 - val_loss: 0.0622\n",
      "Epoch 2/5\n",
      "1688/1688 - 8s - 5ms/step - accuracy: 0.9844 - loss: 0.0519 - val_accuracy: 0.9865 - val_loss: 0.0483\n",
      "Epoch 3/5\n",
      "1688/1688 - 7s - 4ms/step - accuracy: 0.9895 - loss: 0.0315 - val_accuracy: 0.9878 - val_loss: 0.0475\n",
      "Epoch 4/5\n",
      "1688/1688 - 7s - 4ms/step - accuracy: 0.9934 - loss: 0.0205 - val_accuracy: 0.9852 - val_loss: 0.0626\n",
      "Epoch 5/5\n",
      "1688/1688 - 7s - 4ms/step - accuracy: 0.9955 - loss: 0.0134 - val_accuracy: 0.9875 - val_loss: 0.0587\n",
      "Test accuracy: 0.9865\n"
     ]
    }
   ],
   "source": [
    "history = model.fit(\n",
    "    x_train, y_train,\n",
    "    batch_size=32,\n",
    "    verbose=2,\n",
    "    validation_split=0.1,\n",
    "    epochs=5\n",
    ")\n",
    "\n",
    "test_loss, test_acc = model.evaluate(x_test, y_test, verbose=0)\n",
    "print(f'Test accuracy: {test_acc:.4f}')"
   ]
  }
 ],
 "metadata": {
  "kernelspec": {
   "display_name": "Python (pyenv 3.11)",
   "language": "python",
   "name": "pyenv-3.11"
  },
  "language_info": {
   "codemirror_mode": {
    "name": "ipython",
    "version": 3
   },
   "file_extension": ".py",
   "mimetype": "text/x-python",
   "name": "python",
   "nbconvert_exporter": "python",
   "pygments_lexer": "ipython3",
   "version": "3.11.8"
  }
 },
 "nbformat": 4,
 "nbformat_minor": 2
}
